{
 "cells": [
  {
   "cell_type": "code",
   "execution_count": 2,
   "metadata": {},
   "outputs": [
    {
     "name": "stdout",
     "output_type": "stream",
     "text": [
      "a+b: 53\n",
      "a-b: -49\n",
      "b%a: 1\n",
      "b/a: 25.5\n",
      "b//a: 25\n",
      "b*a: 102\n",
      "b**a: 2601\n"
     ]
    }
   ],
   "source": [
    "#Aritheramic operators \n",
    "\n",
    "a=2\n",
    "b=51\n",
    "\n",
    "print(\"a+b:\",a+b)\n",
    "print(\"a-b:\",a-b)\n",
    "print(\"b%a:\",b%a)\n",
    "print(\"b/a:\",b/a)\n",
    "print(\"b//a:\",b//a)\n",
    "print(\"b*a:\",b*a)\n",
    "print(\"b**a:\",b**a)"
   ]
  },
  {
   "cell_type": "code",
   "execution_count": null,
   "metadata": {},
   "outputs": [],
   "source": [
    "#Assignment operators \n",
    "x = 5\t#x = 5\t\n",
    "x += 3\t#x = x + 3\t\n",
    "x -= 3\t#x = x - 3\t\n",
    "x *= 3\t#x = x * 3\t\n",
    "x /= 3\t#x = x / 3\t\n",
    "x %= 3\t#x = x % 3\t\n",
    "x //= 3\t#x = x // 3\t\n",
    "x **= 3\t#x = x ** 3\t\n",
    "x &= 3\t#x = x & 3\t\n",
    "x |= 3\t#x = x | 3\t\n",
    "x ^= 3\t#x = x ^ 3\t\n",
    "x >>= 3\t#x = x >> 3\t\n",
    "x <<= 3\t#x = x << 3\t\n",
    "print(x := 3)\t#x = 3 print(x)"
   ]
  },
  {
   "cell_type": "code",
   "execution_count": 4,
   "metadata": {},
   "outputs": [],
   "source": [
    "#comparision operators \n",
    "\n",
    "\n",
    "# Equal\t                          x == y\t\n",
    "# Not equal\t                      x != y\t\n",
    "# Greater than\t                  x > y\t\n",
    "# Less than\t                      x < y\t\n",
    "# Greater than or equal to    \t  x >= y\t\n",
    "# Less than or equal to\t          x <= y\t\n"
   ]
  },
  {
   "cell_type": "code",
   "execution_count": 8,
   "metadata": {},
   "outputs": [
    {
     "name": "stdout",
     "output_type": "stream",
     "text": [
      "True\n",
      "False\n",
      "True\n"
     ]
    }
   ],
   "source": [
    "#logical operators\n",
    "x=5\n",
    "y=10\n",
    "\n",
    "\n",
    "#and --> returns ture if one of the statement true \n",
    "print((x>y) or (y>x))\n",
    "\n",
    "#or -->return true if both the statements are true\n",
    "print((x>y) and (y>x))\n",
    "\n",
    "\n",
    "#not --> reversed the result \n",
    "print(not(x>y))"
   ]
  },
  {
   "cell_type": "code",
   "execution_count": 11,
   "metadata": {},
   "outputs": [
    {
     "name": "stdout",
     "output_type": "stream",
     "text": [
      "True\n",
      "False\n",
      "False\n"
     ]
    }
   ],
   "source": [
    "#identity operator \n",
    "x=5\n",
    "y=5 \n",
    "z=10\n",
    "#is \n",
    "print(x is y)\n",
    "print(x is z)\n",
    "\n",
    "#is not\n",
    "print(x is not y)\n"
   ]
  },
  {
   "cell_type": "code",
   "execution_count": 13,
   "metadata": {},
   "outputs": [
    {
     "name": "stdout",
     "output_type": "stream",
     "text": [
      "True\n",
      "False\n"
     ]
    }
   ],
   "source": [
    "#membership operators\n",
    "a=[1,25,61,85]\n",
    "\n",
    "#in\n",
    "print(25 in a)\n",
    "print(25 not in a)"
   ]
  },
  {
   "cell_type": "code",
   "execution_count": 17,
   "metadata": {},
   "outputs": [
    {
     "name": "stdout",
     "output_type": "stream",
     "text": [
      "x & y: 0\n",
      "x | y: 15\n",
      "~x: -11\n",
      "x^y: 15\n",
      "x>>1: 5\n",
      "y<<1: 10\n"
     ]
    }
   ],
   "source": [
    "#bitwise operator \n",
    "\n",
    "x=10\n",
    "y=5\n",
    "#&--->bitwise and operator \n",
    "print(\"x & y:\",x&y)\n",
    "\n",
    "#|--->bitwise or operator \n",
    "print(\"x | y:\",x|y)\n",
    "\n",
    "#~--->negation operator\n",
    "print(\"~x:\",~x)\n",
    "\n",
    "#^--->bitwise xor operator \n",
    "print(\"x^y:\",x^y)\n",
    "\n",
    "\n",
    "#>>--->right shift operator \n",
    "print(\"x>>1:\",x>>1)\n",
    "\n",
    "\n",
    "#<<--->right shift operator\n",
    "print(\"y<<1:\",y<<1)\n"
   ]
  },
  {
   "cell_type": "code",
   "execution_count": null,
   "metadata": {},
   "outputs": [],
   "source": []
  }
 ],
 "metadata": {
  "kernelspec": {
   "display_name": "Python 3",
   "language": "python",
   "name": "python3"
  },
  "language_info": {
   "codemirror_mode": {
    "name": "ipython",
    "version": 3
   },
   "file_extension": ".py",
   "mimetype": "text/x-python",
   "name": "python",
   "nbconvert_exporter": "python",
   "pygments_lexer": "ipython3",
   "version": "3.8.10"
  }
 },
 "nbformat": 4,
 "nbformat_minor": 2
}
