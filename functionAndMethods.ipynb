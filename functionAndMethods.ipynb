{
 "cells": [
  {
   "cell_type": "code",
   "execution_count": 1,
   "metadata": {},
   "outputs": [
    {
     "name": "stdout",
     "output_type": "stream",
     "text": [
      "90\n"
     ]
    }
   ],
   "source": [
    "#function \n",
    "\n",
    "def add(a,b):\n",
    "    print(a+b)\n",
    "\n",
    "add(2,88)"
   ]
  },
  {
   "cell_type": "code",
   "execution_count": 2,
   "metadata": {},
   "outputs": [
    {
     "name": "stdout",
     "output_type": "stream",
     "text": [
      "7\n"
     ]
    }
   ],
   "source": [
    "#function2\n",
    "def add(a,b):\n",
    "    return a+b\n",
    "\n",
    "print(add(2,5))"
   ]
  },
  {
   "cell_type": "code",
   "execution_count": 5,
   "metadata": {},
   "outputs": [
    {
     "name": "stdout",
     "output_type": "stream",
     "text": [
      "Hello Bhavesh\n"
     ]
    }
   ],
   "source": [
    "#method--> related class and first argument is self \n",
    "\n",
    "class bk:\n",
    "    def getName(self,name):\n",
    "        print(f\"Hello {name}\")\n",
    "\n",
    "obj=bk()\n",
    "\n",
    "obj.getName('Bhavesh')\n",
    "\n"
   ]
  },
  {
   "cell_type": "code",
   "execution_count": 14,
   "metadata": {},
   "outputs": [
    {
     "name": "stdout",
     "output_type": "stream",
     "text": [
      "The sum of arr is: 55\n",
      "The min from the arr is: 1\n",
      "max from the arr is: 10\n",
      "The ceil value of 10.20 is : 11\n",
      "The floor value of 10.20 is: 10\n"
     ]
    }
   ],
   "source": [
    "#pthon inbuilt functions\n",
    "import math\n",
    "arr=[1,2,3,4,5,6,7,8,9,10]\n",
    "#sum()\n",
    "print(\"The sum of arr is:\",sum(arr))\n",
    "\n",
    "\n",
    "#min()\n",
    "print(\"The min from the arr is:\",min(arr))\n",
    "\n",
    "#max()\n",
    "print(\"max from the arr is:\",max(arr))\n",
    "\n",
    "\n",
    "#ceil\n",
    "print(\"The ceil value of 10.20 is :\",math.ceil(10.20))\n",
    "\n",
    "#floor\n",
    "print(\"The floor value of 10.20 is:\",math.floor(10.20))\n",
    "\n"
   ]
  },
  {
   "cell_type": "code",
   "execution_count": 16,
   "metadata": {},
   "outputs": [
    {
     "name": "stdout",
     "output_type": "stream",
     "text": [
      "1\n",
      "2\n",
      "3\n",
      "1\n",
      "2\n"
     ]
    }
   ],
   "source": [
    "#Arbitrary Arguments, *args\n",
    "\n",
    "def bk(*arg):\n",
    "    for i in arg:\n",
    "        print(i)\n",
    "#\"passed with 3 values:\",\n",
    "bk(1,2,3)\n",
    "\n",
    "#\"Passed with two values:\",\n",
    "bk(1,2)"
   ]
  },
  {
   "cell_type": "code",
   "execution_count": 22,
   "metadata": {},
   "outputs": [
    {
     "name": "stdout",
     "output_type": "stream",
     "text": [
      "40\n",
      "20\n",
      "30\n"
     ]
    }
   ],
   "source": [
    "#default value\n",
    "def add(a=10,b=20):\n",
    "    print(a+b)\n",
    "\n",
    "#pass only a\n",
    "add(20)\n",
    "#pass only b\n",
    "add(b=10)\n",
    "#dont pass anything\n",
    "add()"
   ]
  },
  {
   "cell_type": "code",
   "execution_count": 25,
   "metadata": {},
   "outputs": [
    {
     "name": "stdout",
     "output_type": "stream",
     "text": [
      "30\n"
     ]
    }
   ],
   "source": [
    "#positional only arguments \n",
    "def summ(a,b,/):\n",
    "    print(a+b)\n",
    "\n",
    "summ(10,20)#this will print the sum\n",
    "\n",
    "#summ(a=20,b=30)#this will show error due to the function accepts is positional args only\n",
    "\n"
   ]
  },
  {
   "cell_type": "code",
   "execution_count": 29,
   "metadata": {},
   "outputs": [
    {
     "name": "stdout",
     "output_type": "stream",
     "text": [
      "30\n"
     ]
    }
   ],
   "source": [
    "#keyword arguments only\n",
    "def summ1(*,a,b):\n",
    "    print(a+b)\n",
    "\n",
    "#summ1(10,20)#this will show error as the function has keyword only arguments \n",
    "\n",
    "\n",
    "summ1(a=10,b=20)"
   ]
  },
  {
   "cell_type": "code",
   "execution_count": 30,
   "metadata": {},
   "outputs": [
    {
     "name": "stdout",
     "output_type": "stream",
     "text": [
      "22\n"
     ]
    }
   ],
   "source": [
    "#lambda function\n",
    "def myfunc(n):\n",
    "  return lambda a : a * n\n",
    "\n",
    "mydoubler = myfunc(2)\n",
    "\n",
    "print(mydoubler(11))"
   ]
  },
  {
   "cell_type": "code",
   "execution_count": 32,
   "metadata": {},
   "outputs": [
    {
     "name": "stdout",
     "output_type": "stream",
     "text": [
      "The square is : 81\n",
      "The cube is: 125\n"
     ]
    }
   ],
   "source": [
    "#lambda to calculate the power of number\n",
    "def power(n):\n",
    "    return lambda a:a**n\n",
    "\n",
    "sq=power(2)\n",
    "cube=power(3)\n",
    "\n",
    "print(\"The square is :\",sq(9))\n",
    "\n",
    "print(\"The cube is:\",cube(5))"
   ]
  },
  {
   "cell_type": "code",
   "execution_count": null,
   "metadata": {},
   "outputs": [],
   "source": []
  }
 ],
 "metadata": {
  "kernelspec": {
   "display_name": "Python 3",
   "language": "python",
   "name": "python3"
  },
  "language_info": {
   "codemirror_mode": {
    "name": "ipython",
    "version": 3
   },
   "file_extension": ".py",
   "mimetype": "text/x-python",
   "name": "python",
   "nbconvert_exporter": "python",
   "pygments_lexer": "ipython3",
   "version": "3.8.10"
  }
 },
 "nbformat": 4,
 "nbformat_minor": 2
}
