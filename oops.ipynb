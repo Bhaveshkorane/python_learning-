{
 "cells": [
  {
   "cell_type": "code",
   "execution_count": 8,
   "metadata": {},
   "outputs": [
    {
     "name": "stdout",
     "output_type": "stream",
     "text": [
      "student Bhavesh is 22 years old\n",
      "Hello Bhavesh, Welcome to out tekdi technologies \n"
     ]
    }
   ],
   "source": [
    "#creating class\n",
    "\n",
    "class student:\n",
    "    def __init__(self,name,age):#this is constructor \n",
    "        self.name=name\n",
    "        self.age=age\n",
    "    def display(self):#method 1 \n",
    "        print(f\"student {self.name} is {self.age} years old\")\n",
    "\n",
    "    def greet(self):\n",
    "        print(f\"Hello {self.name}, Welcome to out tekdi technologies \")\n",
    "\n",
    "\n",
    "st1=student(\"Bhavesh\",22)#object creation \n",
    "\n",
    "\n",
    "\n",
    "st1.display()#method calling \n",
    "st1.greet()\n"
   ]
  },
  {
   "cell_type": "code",
   "execution_count": null,
   "metadata": {},
   "outputs": [],
   "source": []
  }
 ],
 "metadata": {
  "kernelspec": {
   "display_name": "Python 3",
   "language": "python",
   "name": "python3"
  },
  "language_info": {
   "codemirror_mode": {
    "name": "ipython",
    "version": 3
   },
   "file_extension": ".py",
   "mimetype": "text/x-python",
   "name": "python",
   "nbconvert_exporter": "python",
   "pygments_lexer": "ipython3",
   "version": "3.8.10"
  }
 },
 "nbformat": 4,
 "nbformat_minor": 2
}
