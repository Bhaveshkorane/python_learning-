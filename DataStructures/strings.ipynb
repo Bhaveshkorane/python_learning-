{
 "cells": [
  {
   "cell_type": "code",
   "execution_count": 4,
   "metadata": {},
   "outputs": [
    {
     "name": "stdout",
     "output_type": "stream",
     "text": [
      "Bhavesh\n"
     ]
    }
   ],
   "source": [
    "#strings \n",
    "my_str=\"Bhavesh\"\n",
    "print(my_str)\n",
    "\n",
    "\n"
   ]
  },
  {
   "cell_type": "code",
   "execution_count": 5,
   "metadata": {},
   "outputs": [
    {
     "name": "stdout",
     "output_type": "stream",
     "text": [
      "Hello Kids this is your father 22 years old and \n",
      "at the starting of his carriesr and just wa\n",
      "nt to tell you that he loves you even before you exist \n"
     ]
    }
   ],
   "source": [
    "#multiline strings \n",
    "my_str2=\"\"\"Hello Kids this is your father 22 years old and \n",
    "at the starting of his carriesr and just wa\n",
    "nt to tell you that he loves you even before you exist \"\"\"\n",
    "\n",
    "\n",
    "print(my_str2)"
   ]
  },
  {
   "cell_type": "code",
   "execution_count": 6,
   "metadata": {},
   "outputs": [
    {
     "name": "stdout",
     "output_type": "stream",
     "text": [
      "B\n"
     ]
    }
   ],
   "source": [
    "#accissing string char with index\n",
    "print(my_str[0])"
   ]
  },
  {
   "cell_type": "code",
   "execution_count": 7,
   "metadata": {},
   "outputs": [
    {
     "name": "stdout",
     "output_type": "stream",
     "text": [
      "B\n",
      "h\n",
      "a\n",
      "v\n",
      "e\n",
      "s\n",
      "h\n"
     ]
    }
   ],
   "source": [
    "#looping though the strin \n",
    "for i in my_str:\n",
    "    print(i)"
   ]
  },
  {
   "cell_type": "code",
   "execution_count": 9,
   "metadata": {},
   "outputs": [
    {
     "name": "stdout",
     "output_type": "stream",
     "text": [
      "The length of the string is 7\n"
     ]
    }
   ],
   "source": [
    "#length of the string \n",
    "print(f\"The length of the string is {len(my_str)}\")#and this is called fstring or formatting string "
   ]
  },
  {
   "cell_type": "code",
   "execution_count": 10,
   "metadata": {},
   "outputs": [
    {
     "name": "stdout",
     "output_type": "stream",
     "text": [
      "Yes Bhavesh is present in the string \n"
     ]
    }
   ],
   "source": [
    "#checking if the string contains the desired string with in operator \n",
    "if \"Bhavesh\" in my_str:\n",
    "    print(\"Yes Bhavesh is present in the string \")\n",
    "\n"
   ]
  },
  {
   "cell_type": "code",
   "execution_count": 13,
   "metadata": {},
   "outputs": [
    {
     "name": "stdout",
     "output_type": "stream",
     "text": [
      "Bhavesh is not present in the string \n"
     ]
    }
   ],
   "source": [
    "#not in\n",
    "if \"Bhavesh\" not in my_str2:\n",
    "    print(\"Bhavesh is not present in the string \")\n",
    "else:\n",
    "    print(\"Bhavesh is present in the string \")\n"
   ]
  },
  {
   "cell_type": "code",
   "execution_count": 16,
   "metadata": {},
   "outputs": [
    {
     "name": "stdout",
     "output_type": "stream",
     "text": [
      "Hello Kids this is\n"
     ]
    }
   ],
   "source": [
    "#string slicing \n",
    "print(my_str2[0:18])"
   ]
  },
  {
   "cell_type": "code",
   "execution_count": 17,
   "metadata": {},
   "outputs": [
    {
     "name": "stdout",
     "output_type": "stream",
     "text": [
      "Hello Kids this is your father 22 years old and \n",
      "at the starting of his carriesr and just wa\n",
      "nt to tell you that he loves you even before you exist \n"
     ]
    }
   ],
   "source": [
    "#slice to end\n",
    "print(my_str2[0:])"
   ]
  },
  {
   "cell_type": "code",
   "execution_count": 19,
   "metadata": {},
   "outputs": [
    {
     "name": "stdout",
     "output_type": "stream",
     "text": [
      "ves you even before \n"
     ]
    }
   ],
   "source": [
    "#negative slicing \n",
    "print(my_str2[-30:-10])"
   ]
  },
  {
   "cell_type": "code",
   "execution_count": 22,
   "metadata": {},
   "outputs": [
    {
     "name": "stdout",
     "output_type": "stream",
     "text": [
      "BHAVESH\n"
     ]
    }
   ],
   "source": [
    "#uppercase \n",
    "print(my_str.upper())"
   ]
  },
  {
   "cell_type": "code",
   "execution_count": 23,
   "metadata": {},
   "outputs": [
    {
     "name": "stdout",
     "output_type": "stream",
     "text": [
      "bhavesh\n"
     ]
    }
   ],
   "source": [
    "#lowercase\n",
    "print(my_str.lower())"
   ]
  },
  {
   "cell_type": "code",
   "execution_count": 24,
   "metadata": {},
   "outputs": [
    {
     "name": "stdout",
     "output_type": "stream",
     "text": [
      "Hello Kids this is your father 22 years old and \n",
      "at the starting of his carriesr and just wa\n",
      "nt to tell you that he loves you even before you exist\n"
     ]
    }
   ],
   "source": [
    "#removing white spaces\n",
    "print(my_str2.strip())"
   ]
  },
  {
   "cell_type": "code",
   "execution_count": 26,
   "metadata": {},
   "outputs": [
    {
     "name": "stdout",
     "output_type": "stream",
     "text": [
      "BHavesH\n"
     ]
    }
   ],
   "source": [
    "#replacing from the string \n",
    "print(my_str.replace(\"h\",\"H\"))"
   ]
  },
  {
   "cell_type": "code",
   "execution_count": 30,
   "metadata": {},
   "outputs": [
    {
     "name": "stdout",
     "output_type": "stream",
     "text": [
      "Hello\n",
      "Kids\n",
      "this\n",
      "is\n",
      "your\n",
      "father\n",
      "22\n",
      "years\n",
      "old\n",
      "and\n",
      "\n",
      "at\n",
      "the\n",
      "starting\n",
      "of\n",
      "his\n",
      "carriesr\n",
      "and\n",
      "just\n",
      "wa\n",
      "nt\n",
      "to\n",
      "tell\n",
      "you\n",
      "that\n",
      "he\n",
      "loves\n",
      "you\n",
      "even\n",
      "before\n",
      "you\n",
      "exist\n",
      "\n"
     ]
    }
   ],
   "source": [
    "#spliting the string \n",
    "str=my_str2.strip()\n",
    "a=my_str2.split(\" \")#spliting the string separated by \" \"(space)\n",
    "for i in a:\n",
    "    if i==\" \":\n",
    "        print(\"this is space............\")\n",
    "    print(i)  "
   ]
  },
  {
   "cell_type": "code",
   "execution_count": 33,
   "metadata": {},
   "outputs": [
    {
     "name": "stdout",
     "output_type": "stream",
     "text": [
      "The house price is 25.90\n"
     ]
    }
   ],
   "source": [
    "#formatting string \n",
    "price=25.89663\n",
    "print(f\"The house price is {price:.2f}\")"
   ]
  },
  {
   "cell_type": "code",
   "execution_count": null,
   "metadata": {},
   "outputs": [],
   "source": [
    "#escape sequences\n",
    "Code\tResult\t\n",
    "'\\'\tSingle Quote\t\n",
    "\\\\\tBackslash\t\n",
    "\\n\tNew Line\t\n",
    "\\r\tCarriage Return\t\n",
    "\\t\tTab\t\n",
    "\\b\tBackspace\t\n",
    "\\f\tForm Feed\t\n",
    "\\ooo\tOctal value\t\n",
    "\\xhh\tHex value\t\n"
   ]
  },
  {
   "cell_type": "markdown",
   "metadata": {},
   "source": []
  }
 ],
 "metadata": {
  "kernelspec": {
   "display_name": "Python 3",
   "language": "python",
   "name": "python3"
  },
  "language_info": {
   "codemirror_mode": {
    "name": "ipython",
    "version": 3
   },
   "file_extension": ".py",
   "mimetype": "text/x-python",
   "name": "python",
   "nbconvert_exporter": "python",
   "pygments_lexer": "ipython3",
   "version": "3.8.10"
  }
 },
 "nbformat": 4,
 "nbformat_minor": 2
}
