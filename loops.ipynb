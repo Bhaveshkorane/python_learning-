{
 "cells": [
  {
   "cell_type": "code",
   "execution_count": 1,
   "metadata": {},
   "outputs": [
    {
     "name": "stdout",
     "output_type": "stream",
     "text": [
      "0\n",
      "1\n",
      "2\n",
      "3\n",
      "4\n",
      "5\n",
      "6\n",
      "7\n",
      "8\n",
      "9\n",
      "The number is 10 now\n"
     ]
    }
   ],
   "source": [
    "#loops \n",
    "#wile loop\n",
    "\n",
    "i=0\n",
    "while i<10:\n",
    "    print(i)\n",
    "    i+=1\n",
    "else:\n",
    "    print(\"The number is 10 now\")"
   ]
  },
  {
   "cell_type": "code",
   "execution_count": 6,
   "metadata": {},
   "outputs": [
    {
     "name": "stdout",
     "output_type": "stream",
     "text": [
      "0\n",
      "1\n",
      "2\n",
      "3\n"
     ]
    }
   ],
   "source": [
    "#break statement \n",
    "i=0;\n",
    "while i<10:\n",
    "    if(i==4):\n",
    "        break#this will break the loop once i reches to 4\n",
    "    print(i)\n",
    "    i+=1\n",
    "    \n",
    "else:\n",
    "    print(\"The number is 10 now\")\n"
   ]
  },
  {
   "cell_type": "code",
   "execution_count": 11,
   "metadata": {},
   "outputs": [
    {
     "name": "stdout",
     "output_type": "stream",
     "text": [
      "0\n",
      "1\n",
      "2\n",
      "3\n",
      "This was supposed to be 4\n",
      "5\n",
      "6\n",
      "7\n",
      "8\n",
      "9\n",
      "The number is 10 now\n"
     ]
    }
   ],
   "source": [
    "#break statement \n",
    "i=0;\n",
    "while i<10:\n",
    "    if(i==4):\n",
    "        i+=1\n",
    "        print(\"This was supposed to be 4\")\n",
    "        continue#this will skips the iteration when i is 4\n",
    "    print(i)\n",
    "    i+=1\n",
    "    \n",
    "else:\n",
    "    print(\"The number is 10 now\")"
   ]
  },
  {
   "cell_type": "code",
   "execution_count": 13,
   "metadata": {},
   "outputs": [
    {
     "name": "stdout",
     "output_type": "stream",
     "text": [
      "Apple\n",
      "Banana\n",
      "Jackfruit\n",
      "Pineapple\n",
      "Grapes\n"
     ]
    }
   ],
   "source": [
    "#for loop\n",
    "fruits=['Apple','Banana','Jackfruit','Pineapple','Grapes']\n",
    "\n",
    "for i in fruits:\n",
    "    print(i)"
   ]
  },
  {
   "cell_type": "code",
   "execution_count": 14,
   "metadata": {},
   "outputs": [
    {
     "name": "stdout",
     "output_type": "stream",
     "text": [
      "Apple\n",
      "Banana\n",
      "Jackfruit\n",
      "Pineapple\n",
      "Grapes\n"
     ]
    }
   ],
   "source": [
    "for i in range(0,len(fruits)):\n",
    "    print(fruits[i])"
   ]
  },
  {
   "cell_type": "code",
   "execution_count": 19,
   "metadata": {},
   "outputs": [],
   "source": [
    "#pass statement in for loop: empty for loop can raise error so need \n",
    "# to write pass inside it\n",
    "for i in range(0,10):\n",
    "   pass\n"
   ]
  },
  {
   "cell_type": "code",
   "execution_count": null,
   "metadata": {},
   "outputs": [],
   "source": []
  }
 ],
 "metadata": {
  "kernelspec": {
   "display_name": "Python 3",
   "language": "python",
   "name": "python3"
  },
  "language_info": {
   "codemirror_mode": {
    "name": "ipython",
    "version": 3
   },
   "file_extension": ".py",
   "mimetype": "text/x-python",
   "name": "python",
   "nbconvert_exporter": "python",
   "pygments_lexer": "ipython3",
   "version": "3.8.10"
  }
 },
 "nbformat": 4,
 "nbformat_minor": 2
}
